{
 "cells": [
  {
   "cell_type": "code",
   "execution_count": 2,
   "metadata": {},
   "outputs": [
    {
     "name": "stdout",
     "output_type": "stream",
     "text": [
      "[1, 3, 12, 0, 0]\n"
     ]
    }
   ],
   "source": [
    "def moveZeros(nums):\n",
    "    pos = 0\n",
    "\n",
    "    for i in range(len(nums)):\n",
    "        if nums[i] != 0:\n",
    "            nums[pos] = nums[i]\n",
    "            pos += 1\n",
    "\n",
    "    while pos < len(nums):\n",
    "        nums[pos] = 0\n",
    "        pos += 1\n",
    "\n",
    "    return nums\n",
    "\n",
    "nums = [0, 1, 0, 3, 12]\n",
    "result = moveZeros(nums)\n",
    "print(result)\n"
   ]
  },
  {
   "cell_type": "code",
   "execution_count": 1,
   "metadata": {},
   "outputs": [
    {
     "name": "stdout",
     "output_type": "stream",
     "text": [
      "0\n"
     ]
    }
   ],
   "source": [
    "def firstUniqChar(s):\n",
    "    char_freq = {}\n",
    "\n",
    "    for char in s:\n",
    "        char_freq[char] = char_freq.get(char, 0) + 1\n",
    "\n",
    "    for i in range(len(s)):\n",
    "        if char_freq[s[i]] == 1:\n",
    "            return i\n",
    "\n",
    "    return -1\n",
    "\n",
    "s = \"leetcode\"\n",
    "result = firstUniqChar(s)\n",
    "print(result)\n"
   ]
  }
 ],
 "metadata": {
  "kernelspec": {
   "display_name": "Python 3",
   "language": "python",
   "name": "python3"
  },
  "language_info": {
   "codemirror_mode": {
    "name": "ipython",
    "version": 3
   },
   "file_extension": ".py",
   "mimetype": "text/x-python",
   "name": "python",
   "nbconvert_exporter": "python",
   "pygments_lexer": "ipython3",
   "version": "3.10.11"
  },
  "orig_nbformat": 4
 },
 "nbformat": 4,
 "nbformat_minor": 2
}
